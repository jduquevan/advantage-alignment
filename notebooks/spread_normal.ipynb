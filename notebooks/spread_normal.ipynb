{
 "cells": [
  {
   "cell_type": "code",
   "execution_count": null,
   "id": "initial_id",
   "metadata": {
    "collapsed": true
   },
   "outputs": [],
   "source": [
    "import torch\n",
    "import torch.distributions as D\n",
    "\n",
    "class MixtureDistribution(D.Distribution):\n",
    "    def __init__(self, base_dist, uniform_low, uniform_high, mixture_weight):\n",
    "        super().__init__(validate_args=False)\n",
    "        self.base_dist = base_dist\n",
    "        self.uniform_dist = D.Uniform(uniform_low, uniform_high)\n",
    "        self.mixture_weight = mixture_weight\n",
    "        \n",
    "    def sample(self):\n",
    "        base_samples = self.base_dist.sample()\n",
    "        uniform_samples = self.uniform_dist.sample(sample_shape=base_samples.shape)\n",
    "\n",
    "        mixture_samples = torch.bernoulli(self.mixture_weight * torch.ones_like(base_samples)).bool()\n",
    "        print(uniform_samples)\n",
    "\n",
    "        samples = torch.where(mixture_samples, uniform_samples, base_samples)\n",
    "        return samples\n",
    "\n",
    "    def log_prob(self, x):\n",
    "        base_log_prob = self.base_dist.log_prob(x)\n",
    "        uniform_log_prob = self.uniform_dist.log_prob(x)\n",
    "\n",
    "        base_weighted_log_prob = torch.log(1 - self.mixture_weight) + base_log_prob\n",
    "        uniform_weighted_log_prob = torch.log(self.mixture_weight) + uniform_log_prob\n",
    "        \n",
    "        print(base_weighted_log_prob.shape, \n",
    "              uniform_weighted_log_prob.shape,\n",
    "              torch.stack([base_weighted_log_prob, uniform_weighted_log_prob]).shape)\n",
    "\n",
    "        return torch.logsumexp(\n",
    "            torch.stack([base_weighted_log_prob, uniform_weighted_log_prob], axis=-1),\n",
    "            dim=-1\n",
    "        )"
   ]
  },
  {
   "cell_type": "code",
   "outputs": [],
   "source": [
    "from torch.distributions import SigmoidTransform\n",
    "\n",
    "base_prop_dist = D.normal.Normal(\n",
    "            loc=torch.zeros((4096, 3)),\n",
    "            scale=torch.exp(torch.ones((4096, 3))*-2.)\n",
    "        )\n",
    "\n",
    "prop_normal_sigmoid = D.TransformedDistribution(base_prop_dist, [SigmoidTransform()])\n",
    "\n",
    "mixture_dist = MixtureDistribution(\n",
    "    prop_normal_sigmoid,\n",
    "    torch.tensor(0.0),\n",
    "    torch.tensor(1.0),\n",
    "    torch.tensor(0.5)\n",
    ")"
   ],
   "metadata": {
    "collapsed": false
   },
   "id": "6524d3c220d7d6bb",
   "execution_count": null
  },
  {
   "cell_type": "code",
   "outputs": [],
   "source": [
    "samples = mixture_dist.sample()"
   ],
   "metadata": {
    "collapsed": false
   },
   "id": "65e5d5d6bde66dfd",
   "execution_count": null
  },
  {
   "cell_type": "code",
   "outputs": [
    {
     "data": {
      "text/plain": "(0.0, 5.0)"
     },
     "execution_count": 159,
     "metadata": {},
     "output_type": "execute_result"
    },
    {
     "data": {
      "text/plain": "<Figure size 640x480 with 1 Axes>",
      "image/png": "[encoded data removed]"
     },
     "metadata": {},
     "output_type": "display_data"
    }
   ],
   "source": [
    "slice = samples[:, 2]\n",
    "# plot histogram between 0 and 1\n",
    "import matplotlib.pyplot as plt\n",
    "plt.hist(slice.numpy(), bins=100, density=True)\n",
    "# force hist between 0 and 1\n",
    "plt.xlim(0, 5)"
   ],
   "metadata": {
    "collapsed": false,
    "ExecuteTime": {
     "end_time": "2024-05-17T20:28:45.163440Z",
     "start_time": "2024-05-17T20:28:44.918640Z"
    }
   },
   "id": "a599c2ecb8e78381",
   "execution_count": 159
  },
  {
   "cell_type": "code",
   "outputs": [],
   "source": [
    "mixture_dist.log_prob(samples).shape\n",
    "plt.scatter(samples, mixture_dist.log_prob(samples), s=1.)\n",
    "plt.ylim(-5, 5)"
   ],
   "metadata": {
    "collapsed": false
   },
   "id": "cbb4e444d8dee5d9",
   "execution_count": null
  },
  {
   "cell_type": "code",
   "outputs": [],
   "source": [
    "class NormalTanhDistribution():\n",
    "    def __init__(self, scale, bias, base_dist):\n",
    "        self.scale = scale\n",
    "        self.bias = bias\n",
    "        self.base_dist = base_dist\n",
    "\n",
    "    def sample(self):\n",
    "        x_t = self.base_dist.sample()\n",
    "        y_t = torch.tanh(x_t)\n",
    "        action = y_t * self.scale + self.bias\n",
    "        return action\n",
    "\n",
    "    def log_prob(self, action):\n",
    "        y_t = (action - self.bias) / self.scale\n",
    "        x_t = torch.atanh(y_t)\n",
    "        log_prob = self.base_dist.log_prob(x_t)\n",
    "        # Enforcing Action Bound\n",
    "        log_prob -= torch.log(self.scale * (1 - y_t.pow(2)) + 1e-6)\n",
    "        log_prob = log_prob.sum(dim=-1)\n",
    "        return log_prob\n",
    "\n",
    "base_prop_dist = D.normal.Normal(\n",
    "            loc=torch.zeros((4096, 3)),\n",
    "            scale=torch.exp(torch.ones((4096, 3))*-2.)\n",
    "        )\n",
    "\n",
    "prop_normal_tanh = NormalTanhDistribution(\n",
    "    scale=torch.tensor(2.5),\n",
    "    bias=torch.tensor(2.5),\n",
    "    base_dist=base_prop_dist\n",
    ")\n",
    "\n",
    "samples = prop_normal_tanh.sample()"
   ],
   "metadata": {
    "collapsed": false,
    "ExecuteTime": {
     "end_time": "2024-05-17T20:28:31.010159Z",
     "start_time": "2024-05-17T20:28:31.001841Z"
    }
   },
   "id": "5228f02b15cb517a",
   "execution_count": 157
  },
  {
   "cell_type": "code",
   "outputs": [
    {
     "data": {
      "text/plain": "(0.0, 5.0)"
     },
     "execution_count": 164,
     "metadata": {},
     "output_type": "execute_result"
    },
    {
     "data": {
      "text/plain": "<Figure size 640x480 with 1 Axes>",
      "image/png": "[encoded data removed]"
     },
     "metadata": {},
     "output_type": "display_data"
    }
   ],
   "source": [
    "slice = samples[:, 2]\n",
    "# plot histogram between 0 and 1\n",
    "import matplotlib.pyplot as plt\n",
    "plt.hist(slice.numpy(), bins=100, density=True)\n",
    "# force hist between 0 and 1\n",
    "plt.xlim(0, 5)"
   ],
   "metadata": {
    "collapsed": false,
    "ExecuteTime": {
     "end_time": "2024-05-17T20:30:08.139147Z",
     "start_time": "2024-05-17T20:30:07.891209Z"
    }
   },
   "id": "eccb521f4c9fe425",
   "execution_count": 164
  },
  {
   "cell_type": "code",
   "outputs": [
    {
     "data": {
      "text/plain": "torch.Size([4096])"
     },
     "execution_count": 163,
     "metadata": {},
     "output_type": "execute_result"
    }
   ],
   "source": [
    "prop_normal_tanh.log_prob(samples).shape"
   ],
   "metadata": {
    "collapsed": false,
    "ExecuteTime": {
     "end_time": "2024-05-17T20:29:46.896713Z",
     "start_time": "2024-05-17T20:29:46.890193Z"
    }
   },
   "id": "354b85331e6dd8f0",
   "execution_count": 163
  },
  {
   "cell_type": "code",
   "outputs": [],
   "source": [],
   "metadata": {
    "collapsed": false
   },
   "id": "1c3114245ab1814b"
  }
 ],
 "metadata": {
  "kernelspec": {
   "display_name": "Python 3",
   "language": "python",
   "name": "python3"
  },
  "language_info": {
   "codemirror_mode": {
    "name": "ipython",
    "version": 2
   },
   "file_extension": ".py",
   "mimetype": "text/x-python",
   "name": "python",
   "nbconvert_exporter": "python",
   "pygments_lexer": "ipython2",
   "version": "2.7.6"
  }
 },
 "nbformat": 4,
 "nbformat_minor": 5
}
