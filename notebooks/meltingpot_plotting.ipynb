{
 "cells": [
  {
   "cell_type": "code",
   "execution_count": null,
   "id": "initial_id",
   "metadata": {
    "collapsed": true
   },
   "outputs": [],
   "source": [
    "import wandb\n",
    "import os\n",
    "\n",
    "api = wandb.Api()\n",
    "\n",
    "entity = \"jduque\"   \n",
    "project = \"MeltingPot\" \n",
    "run_id = \"ir1x5pcr\"  \n",
    "\n",
    "run = api.run(f\"{entity}/{project}/{run_id}\")\n",
    "target_step = 20000\n",
    "os.makedirs(f\"wandb_videos/{run_id}/\", exist_ok=True)\n",
    "\n",
    "files = run.files()\n",
    "\n",
    "for file in files:\n",
    "    if \"media/video\" in file.name:  # Filters for files in the media/video/ directory\n",
    "        step = int((file.name).split(\"_\")[-2])\n",
    "        if step == target_step:\n",
    "            file_orig_clean_name = file.name.split(\"/\")[-1]  # Get only the file name\n",
    "            weird_hash = file_orig_clean_name.split(\".gif\")[0].split(\"_\")[-1]\n",
    "            file_clean_name = file_orig_clean_name.replace('_'+weird_hash, \"\")\n",
    "            print(\"file_orig_clean_name\", file_orig_clean_name)\n",
    "            download_path = f\"wandb_videos/{run_id}/{file_clean_name}\"\n",
    "            print(f\"Downloading {file_clean_name} to {download_path}\")\n",
    "            file.download(root=f\"wandb_videos/{run_id}/\", replace=True)\n",
    "\n",
    "            # Move the file to the correct directory without recreating the hierarchy\n",
    "            os.rename(f\"wandb_videos/{run_id}/media/videos/eval/{file_orig_clean_name}\", download_path)\n",
    "\n",
    "            # Optionally remove the empty directories after the move\n",
    "            os.removedirs(f\"wandb_videos/{run_id}/media/videos/eval/\")"
   ]
  },
  {
   "cell_type": "code",
   "execution_count": null,
   "id": "bf8126023a7ae89c",
   "metadata": {},
   "outputs": [],
   "source": [
    "gif_file = f\"wandb_videos/{run_id}/video_commons_harvest__open_0_{target_step}.gif\"\n",
    "\n",
    "import matplotlib.pyplot as plt\n",
    "from PIL import Image\n",
    "\n",
    "gif = Image.open(gif_file)\n",
    "\n",
    "num_frames = gif.n_frames\n",
    "print(f'The GIF has {num_frames} frames.')\n",
    "\n",
    "def extract_frames(gif, frame_indices):\n",
    "    frames = []\n",
    "    for index in frame_indices:\n",
    "        gif.seek(index)\n",
    "        frames.append(gif.copy())\n",
    "    return frames\n",
    "\n",
    "frames_to_plot = [2, 4, 6]\n",
    "selected_frames = extract_frames(gif, frames_to_plot)\n",
    "\n",
    "fig, axes = plt.subplots(1, len(selected_frames), figsize=(15, 5))\n",
    "for i, frame in enumerate(selected_frames):\n",
    "    axes[i].imshow(frame)\n",
    "    axes[i].axis('off')\n",
    "\n",
    "plt.savefig(f\"frames.pdf\", format=\"pdf\", bbox_inches='tight', dpi=300)\n",
    "plt.show()"
   ]
  },
  {
   "cell_type": "code",
   "execution_count": null,
   "id": "d9dabee6d050ab2d",
   "metadata": {},
   "outputs": [],
   "source": []
  }
 ],
 "metadata": {
  "kernelspec": {
   "display_name": "Python 3",
   "language": "python",
   "name": "python3"
  },
  "language_info": {
   "codemirror_mode": {
    "name": "ipython",
    "version": 2
   },
   "file_extension": ".py",
   "mimetype": "text/x-python",
   "name": "python",
   "nbconvert_exporter": "python",
   "pygments_lexer": "ipython2",
   "version": "2.7.6"
  }
 },
 "nbformat": 4,
 "nbformat_minor": 5
}
