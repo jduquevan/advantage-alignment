{
 "cells": [
  {
   "cell_type": "code",
   "id": "initial_id",
   "metadata": {
    "collapsed": true
   },
   "source": [
    "import numpy as np\n",
    "from torchrl.envs import ParallelEnv\n",
    "from torchrl.envs import MeltingpotEnv\n",
    "scenario = 'commons_harvest__open'\n",
    "env = ParallelEnv(1, lambda: MeltingpotEnv(scenario))"
   ],
   "outputs": [],
   "execution_count": null
  },
  {
   "metadata": {},
   "cell_type": "code",
   "source": [
    "from tensordict import TensorDict\n",
    "\n",
    "env.reset()\n",
    "for i in range(10000):\n",
    "    actions = env.action_spec.rand()\n",
    "    B = 1\n",
    "    N = env.action_spec.shape[-1]\n",
    "    actions_dict = TensorDict(\n",
    "            source={'agents': TensorDict(source={'action': actions.reshape(B, N)})},\n",
    "            batch_size=[B]\n",
    "    )\n",
    "    state = env.step(actions_dict)\n",
    "    print(state['next']['done'], i)\n",
    "    if any(state['next']['done']):\n",
    "        break"
   ],
   "id": "a108b2f849d766d3",
   "outputs": [],
   "execution_count": null
  }
 ],
 "metadata": {
  "kernelspec": {
   "display_name": "Python 3",
   "language": "python",
   "name": "python3"
  },
  "language_info": {
   "codemirror_mode": {
    "name": "ipython",
    "version": 2
   },
   "file_extension": ".py",
   "mimetype": "text/x-python",
   "name": "python",
   "nbconvert_exporter": "python",
   "pygments_lexer": "ipython2",
   "version": "2.7.6"
  }
 },
 "nbformat": 4,
 "nbformat_minor": 5
}
