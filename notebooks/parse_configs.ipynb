{
 "cells": [
  {
   "cell_type": "code",
   "id": "initial_id",
   "metadata": {
    "collapsed": true
   },
   "source": [
    "from omegaconf import OmegaConf\n",
    "import hydra\n",
    "from hydra import initialize, compose\n",
    "\n",
    "def load_and_resolve_config():\n",
    "    # Initialize Hydra without the main function decorator\n",
    "    with initialize(config_path=\"../configs\"):  # Adjust the config_path if necessary\n",
    "        cfg = compose(config_name=\"miladpot\")  # Use your config file name (without .yaml)\n",
    "        \n",
    "        # Print the fully resolved config\n",
    "        return OmegaConf.to_yaml(cfg)\n",
    "\n",
    "cfg = load_and_resolve_config()\n",
    "print(cfg)\n",
    "# write this down to a file named A.yaml\n",
    "with open(\"B.yaml\", \"w\") as f:\n",
    "    f.write(cfg)"
   ],
   "outputs": [],
   "execution_count": null
  },
  {
   "metadata": {},
   "cell_type": "code",
   "source": "",
   "id": "cf12e3b1d1e8abc1",
   "outputs": [],
   "execution_count": null
  }
 ],
 "metadata": {
  "kernelspec": {
   "display_name": "Python 3",
   "language": "python",
   "name": "python3"
  },
  "language_info": {
   "codemirror_mode": {
    "name": "ipython",
    "version": 2
   },
   "file_extension": ".py",
   "mimetype": "text/x-python",
   "name": "python",
   "nbconvert_exporter": "python",
   "pygments_lexer": "ipython2",
   "version": "2.7.6"
  }
 },
 "nbformat": 4,
 "nbformat_minor": 5
}
