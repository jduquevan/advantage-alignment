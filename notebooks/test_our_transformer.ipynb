{
 "cells": [
  {
   "metadata": {
    "ExecuteTime": {
     "end_time": "2024-08-21T18:02:22.669902Z",
     "start_time": "2024-08-21T18:02:10.771702Z"
    }
   },
   "cell_type": "code",
   "source": "from decoder import TransformerConfig, JuanTransformer",
   "id": "f1c8ed1e02a86d54",
   "outputs": [],
   "execution_count": 1
  },
  {
   "cell_type": "code",
   "id": "initial_id",
   "metadata": {
    "collapsed": true,
    "ExecuteTime": {
     "end_time": "2024-08-21T17:59:51.066618Z",
     "start_time": "2024-08-21T17:59:51.063256Z"
    }
   },
   "source": "TransformerConfig(max_seq_len=100, attention='')",
   "outputs": [],
   "execution_count": 3
  },
  {
   "metadata": {},
   "cell_type": "code",
   "outputs": [],
   "execution_count": null,
   "source": "",
   "id": "933534e686c3248a"
  }
 ],
 "metadata": {
  "kernelspec": {
   "display_name": "Python 3",
   "language": "python",
   "name": "python3"
  },
  "language_info": {
   "codemirror_mode": {
    "name": "ipython",
    "version": 2
   },
   "file_extension": ".py",
   "mimetype": "text/x-python",
   "name": "python",
   "nbconvert_exporter": "python",
   "pygments_lexer": "ipython2",
   "version": "2.7.6"
  }
 },
 "nbformat": 4,
 "nbformat_minor": 5
}
