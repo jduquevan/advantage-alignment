{
 "cells": [
  {
   "cell_type": "code",
   "id": "initial_id",
   "metadata": {
    "collapsed": true
   },
   "source": [
    "import numpy as np\n",
    "agent_advantages = np.array([1.0, 1.0, -10.0, 1.0])\n",
    "opponent_advantages = np.array([-2.0, 2.0, -3.0, 3.0])"
   ],
   "outputs": [],
   "execution_count": null
  },
  {
   "metadata": {},
   "cell_type": "code",
   "source": [
    "import numpy as np\n",
    "frac = []\n",
    "for seed in range(10000):\n",
    "    # seed numpy \n",
    "    np.random.seed(seed) \n",
    "    n = 20\n",
    "    agent_advantages = np.random.rand(n) * 2 - 1 \n",
    "    opponent_advantages = agent_advantages\n",
    "    frc = ((np.cumsum(agent_advantages)[:-1] * opponent_advantages[1:])).mean()\n",
    "    frac.append(frc)\n",
    "\n",
    "print(sum(frac) / len(frac))"
   ],
   "id": "bdc136b9efb15840",
   "outputs": [],
   "execution_count": null
  },
  {
   "metadata": {},
   "cell_type": "code",
   "source": "agent_advantages",
   "id": "78fa4f25683f76ac",
   "outputs": [],
   "execution_count": null
  },
  {
   "metadata": {},
   "cell_type": "code",
   "source": [
    "import matplotlib.pyplot as plt\n",
    "import numpy as np\n",
    "from matplotlib.colors import Normalize\n",
    "from matplotlib.cm import ScalarMappable\n",
    "\n",
    "def plot_advantages(data):\n",
    "    # Your input array\n",
    "    # data = np.array([0.1, -0.3, 0.4, 0.6, -1.2])\n",
    "    \n",
    "    # Create figure and axis\n",
    "    fig, ax = plt.subplots(figsize=(12, 3))\n",
    "    \n",
    "    # Create a normalization object\n",
    "    norm = Normalize(vmin=-1, vmax=+1)\n",
    "    \n",
    "    # Create a ScalarMappable object for the colorbar\n",
    "    sm = ScalarMappable(cmap='RdYlGn', norm=norm)\n",
    "    sm.set_array([])\n",
    "    \n",
    "    for i, value in enumerate(data):\n",
    "        color = plt.cm.RdYlGn(norm(value))  # Get color\n",
    "        ax.add_patch(plt.Rectangle((i, 0), 1, 1, facecolor=color, edgecolor='black'))\n",
    "        \n",
    "        # Add text (value) to each tile\n",
    "        ax.text(i + 0.5, 0.5, f'{value:.2f}', ha='center', va='center')\n",
    "    \n",
    "    ax.set_xlim(0, len(data))\n",
    "    ax.set_ylim(0, 1)\n",
    "    ax.set_aspect('equal')\n",
    "    ax.axis('off')\n",
    "    \n",
    "    # Add colorbar\n",
    "    cbar = plt.colorbar(sm, ax=ax, orientation='horizontal', aspect=20, pad=0.12)\n",
    "    cbar.set_label('Value')\n",
    "    \n",
    "    plt.tight_layout()\n",
    "    plt.show()"
   ],
   "id": "d58c5b3f258feeda",
   "outputs": [],
   "execution_count": null
  },
  {
   "metadata": {},
   "cell_type": "code",
   "source": [
    "# advantage alignment changes to the advantages\n",
    "# eq. 43\n",
    "agent_aa_advantages_linear = (np.cumsum(agent_advantages) / np.arange(1, len(agent_advantages) + 1)) * opponent_advantages\n",
    "# eq. 42\n",
    "gamma = 0.96\n",
    "agent_aa_advantages_discount = (np.cumsum(agent_advantages) * np.power(gamma, np.arange(0, len(agent_advantages)))) * opponent_advantages\n",
    "print(f\"Agent advantages linear: {agent_advantages}\")\n",
    "plot_advantages(agent_aa_advantages_linear)\n",
    "print(f\"Agent advantages discount: {agent_advantages}\")\n",
    "plot_advantages(agent_aa_advantages_discount)\n",
    "print(f\"Agent advantages: {agent_advantages}\")\n",
    "plot_advantages(agent_advantages)"
   ],
   "id": "183b896d767ae178",
   "outputs": [],
   "execution_count": null
  },
  {
   "metadata": {},
   "cell_type": "code",
   "source": "",
   "id": "efbe0a54db1dcacb",
   "outputs": [],
   "execution_count": null
  },
  {
   "metadata": {},
   "cell_type": "code",
   "source": "",
   "id": "eaea53135aad838c",
   "outputs": [],
   "execution_count": null
  }
 ],
 "metadata": {
  "kernelspec": {
   "display_name": "Python 3",
   "language": "python",
   "name": "python3"
  },
  "language_info": {
   "codemirror_mode": {
    "name": "ipython",
    "version": 2
   },
   "file_extension": ".py",
   "mimetype": "text/x-python",
   "name": "python",
   "nbconvert_exporter": "python",
   "pygments_lexer": "ipython2",
   "version": "2.7.6"
  }
 },
 "nbformat": 4,
 "nbformat_minor": 5
}
